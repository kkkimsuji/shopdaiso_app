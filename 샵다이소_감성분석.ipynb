{
  "nbformat": 4,
  "nbformat_minor": 0,
  "metadata": {
    "colab": {
      "private_outputs": true,
      "provenance": []
    },
    "kernelspec": {
      "name": "python3",
      "display_name": "Python 3"
    },
    "language_info": {
      "name": "python"
    }
  },
  "cells": [
    {
      "cell_type": "markdown",
      "source": [
        "# 코드"
      ],
      "metadata": {
        "id": "mbMQQe2ULPxi"
      }
    },
    {
      "cell_type": "code",
      "source": [
        "from konlpy.tag import Okt\n",
        "from collections import Counter"
      ],
      "metadata": {
        "id": "dLpK5RblCzHS"
      },
      "execution_count": null,
      "outputs": []
    },
    {
      "cell_type": "code",
      "source": [
        "!pip install konlpy"
      ],
      "metadata": {
        "id": "LV8UVh1UCBG0"
      },
      "execution_count": null,
      "outputs": []
    },
    {
      "cell_type": "code",
      "execution_count": null,
      "metadata": {
        "id": "i5kdvD7X6DyF"
      },
      "outputs": [],
      "source": [
        "!sudo apt-get install -y fonts-nanum\n",
        "!sudo fc-cache -fv\n",
        "!rm ~/.cache/matplotlib -rf"
      ]
    },
    {
      "cell_type": "code",
      "source": [
        "import pandas as pd\n",
        "import numpy as np\n",
        "import seaborn as sns\n",
        "import matplotlib.pyplot as plt\n",
        "\n",
        "plt.rc('font',family='NanumBarunGothic')"
      ],
      "metadata": {
        "id": "e-MhtOpY_ECw"
      },
      "execution_count": null,
      "outputs": []
    },
    {
      "cell_type": "markdown",
      "source": [
        "# 샵다이소_감성분석"
      ],
      "metadata": {
        "id": "BY-9X_y-LSZi"
      }
    },
    {
      "cell_type": "code",
      "source": [
        "df = pd.read_csv('샵다이소_구글앱_리뷰_별점.csv')\n",
        "df.head()"
      ],
      "metadata": {
        "id": "KfH-S7S6_lIR"
      },
      "execution_count": null,
      "outputs": []
    },
    {
      "cell_type": "code",
      "source": [
        "df = df.iloc[3:]\n",
        "df.head()"
      ],
      "metadata": {
        "id": "9y6FjrTo_ucH"
      },
      "execution_count": null,
      "outputs": []
    },
    {
      "cell_type": "code",
      "source": [
        "df = df.reset_index()\n",
        "df.head()"
      ],
      "metadata": {
        "id": "3OdHm_1BADzY"
      },
      "execution_count": null,
      "outputs": []
    },
    {
      "cell_type": "code",
      "source": [
        "df.drop(['index','Unnamed: 0'],axis=1,inplace=True)\n",
        "df.head()"
      ],
      "metadata": {
        "id": "BUQhJsyzAY_W"
      },
      "execution_count": null,
      "outputs": []
    },
    {
      "cell_type": "code",
      "source": [
        "df = df.drop_duplicates(subset=['text'])\n",
        "df.info()"
      ],
      "metadata": {
        "id": "O-Eshd2kBTOD"
      },
      "execution_count": null,
      "outputs": []
    },
    {
      "cell_type": "code",
      "source": [
        "df['score'].value_counts()"
      ],
      "metadata": {
        "id": "o52U11IFB7TU"
      },
      "execution_count": null,
      "outputs": []
    },
    {
      "cell_type": "code",
      "source": [
        "list(df['text'])"
      ],
      "metadata": {
        "id": "p_2TOHF-DWiW"
      },
      "execution_count": null,
      "outputs": []
    },
    {
      "cell_type": "code",
      "source": [
        "text_data = ' '.join(list(df['text']))\n",
        "text_data"
      ],
      "metadata": {
        "id": "WlwbLGhXDBxI"
      },
      "execution_count": null,
      "outputs": []
    },
    {
      "cell_type": "code",
      "source": [
        "okt = Okt()\n",
        "nouns = okt.nouns(text_data)\n",
        "print(nouns)"
      ],
      "metadata": {
        "id": "docm8MZ-Dp63"
      },
      "execution_count": null,
      "outputs": []
    },
    {
      "cell_type": "code",
      "source": [
        "counter = Counter(nouns)\n",
        "print(counter)"
      ],
      "metadata": {
        "id": "TmKOEGAFD6gB"
      },
      "execution_count": null,
      "outputs": []
    },
    {
      "cell_type": "code",
      "source": [
        "noun_data = Counter({x: counter[x] for x in counter if len(x)>1})\n",
        "noun_data.most_common(10)"
      ],
      "metadata": {
        "id": "UyOd-6UoELEX"
      },
      "execution_count": null,
      "outputs": []
    },
    {
      "cell_type": "code",
      "source": [
        "import re\n",
        "from tqdm import tqdm\n",
        "\n",
        "noun_result = []\n",
        "\n",
        "for temp in tqdm(df['text']):\n",
        "    han = re.compile('[^ㄱ-ㅣ가-힣]')\n",
        "    temp_result = han.sub(' ',temp)\n",
        "    temp_noun = okt.nouns(temp_result)\n",
        "    result_noun = [x for x in temp_noun if len(x)>1]\n",
        "    noun_result.append(result_noun)\n",
        "\n",
        "print(noun_result)"
      ],
      "metadata": {
        "id": "d1F0UKciEl4e"
      },
      "execution_count": null,
      "outputs": []
    },
    {
      "cell_type": "code",
      "source": [
        "from sklearn.feature_extraction.text import CountVectorizer\n",
        "\n",
        "count_vectorizer = CountVectorizer(tokenizer = lambda x:x , lowercase=False)\n",
        "bow_vect = count_vectorizer.fit_transform(noun_result)\n",
        "word_list = count_vectorizer.get_feature_names_out()\n",
        "print(word_list)\n",
        "print(count_vectorizer.vocabulary_)"
      ],
      "metadata": {
        "id": "JTnP7p7EKjJv"
      },
      "execution_count": null,
      "outputs": []
    },
    {
      "cell_type": "code",
      "source": [
        "count_list = bow_vect.toarray().sum(axis=0)\n",
        "count_list"
      ],
      "metadata": {
        "id": "JJZSJs3EL_f1"
      },
      "execution_count": null,
      "outputs": []
    },
    {
      "cell_type": "code",
      "source": [
        "bow_vect.toarray()"
      ],
      "metadata": {
        "id": "E9aPBkN5MxHF"
      },
      "execution_count": null,
      "outputs": []
    },
    {
      "cell_type": "code",
      "source": [
        "word_count = dict(zip(word_list,count_list))\n",
        "word_count"
      ],
      "metadata": {
        "id": "Jj5Jf46LNBuF"
      },
      "execution_count": null,
      "outputs": []
    },
    {
      "cell_type": "code",
      "source": [
        "bow_vect.shape"
      ],
      "metadata": {
        "id": "lQOL_HorNZGc"
      },
      "execution_count": null,
      "outputs": []
    },
    {
      "cell_type": "code",
      "source": [
        "from sklearn.feature_extraction.text import TfidfTransformer\n",
        "tf_vectorizer = TfidfTransformer()\n",
        "tf_idf = tf_vectorizer.fit_transform(bow_vect)\n",
        "tf_idf.toarray()"
      ],
      "metadata": {
        "id": "42H5mzs9NhpT"
      },
      "execution_count": null,
      "outputs": []
    },
    {
      "cell_type": "code",
      "source": [
        "df['score_real'] = np.where(df['score']>=4,1,0)\n",
        "df.head()"
      ],
      "metadata": {
        "id": "arTIviFlOqgz"
      },
      "execution_count": null,
      "outputs": []
    },
    {
      "cell_type": "code",
      "source": [
        "from sklearn.model_selection import train_test_split\n",
        "x = tf_idf\n",
        "y = df['score_real']\n",
        "\n",
        "x_train,x_test,y_train,y_test = train_test_split(x,y,test_size=0.3,random_state=1)\n",
        "\n",
        "print(x_train.shape)\n",
        "print(x_test.shape)"
      ],
      "metadata": {
        "id": "mwEbadf8RSHZ"
      },
      "execution_count": null,
      "outputs": []
    },
    {
      "cell_type": "code",
      "source": [
        "from sklearn.linear_model import LogisticRegression\n",
        "from sklearn.metrics import accuracy_score,precision_score,recall_score,f1_score\n",
        "\n",
        "lr = LogisticRegression(random_state = 0)\n",
        "lr.fit(x_train,y_train)\n",
        "\n",
        "y_pred = lr.predict(x_test)\n",
        "print(y_pred)"
      ],
      "metadata": {
        "id": "GaTDgBaLP9DS"
      },
      "execution_count": null,
      "outputs": []
    },
    {
      "cell_type": "code",
      "source": [
        "accuracy_score(y_test,y_pred)"
      ],
      "metadata": {
        "id": "LbKki690Wo0J"
      },
      "execution_count": null,
      "outputs": []
    },
    {
      "cell_type": "code",
      "source": [
        "precision_score(y_test,y_pred)"
      ],
      "metadata": {
        "id": "bdU3nKa4XzB5"
      },
      "execution_count": null,
      "outputs": []
    },
    {
      "cell_type": "code",
      "source": [
        "recall_score(y_test,y_pred)"
      ],
      "metadata": {
        "id": "aAe_-7ZKYUfv"
      },
      "execution_count": null,
      "outputs": []
    },
    {
      "cell_type": "code",
      "source": [
        "f1_score(y_test,y_pred)"
      ],
      "metadata": {
        "id": "cLtJttBbYiNQ"
      },
      "execution_count": null,
      "outputs": []
    },
    {
      "cell_type": "code",
      "source": [
        "lr.coef_"
      ],
      "metadata": {
        "id": "nn-FBjoxY6sY"
      },
      "execution_count": null,
      "outputs": []
    },
    {
      "cell_type": "code",
      "source": [
        "invert_index_vectorizer = {}\n",
        "for temp,temp1 in count_vectorizer.vocabulary_.items():\n",
        "    invert_index_vectorizer[temp1] = temp\n",
        "\n",
        "invert_index_vectorizer"
      ],
      "metadata": {
        "id": "L5qbqc3MZcch"
      },
      "execution_count": null,
      "outputs": []
    },
    {
      "cell_type": "code",
      "source": [
        "lr.coef_"
      ],
      "metadata": {
        "id": "39lxH53xbmKv"
      },
      "execution_count": null,
      "outputs": []
    },
    {
      "cell_type": "code",
      "source": [
        "for index,value in enumerate(lr.coef_[0]):\n",
        "    print(index,value)"
      ],
      "metadata": {
        "id": "ntm5kmF3hh3X"
      },
      "execution_count": null,
      "outputs": []
    },
    {
      "cell_type": "code",
      "source": [
        "coef_pos_index = sorted( ((value,index) for index,value in enumerate(lr.coef_[0])) ,reverse=True  )\n",
        "for temp in coef_pos_index[0:20]:\n",
        "    print(invert_index_vectorizer[temp[1]])"
      ],
      "metadata": {
        "id": "dLL22eAtZ45w"
      },
      "execution_count": null,
      "outputs": []
    },
    {
      "cell_type": "code",
      "source": [
        "coef_neg_index = sorted( ((value,index) for index,value in enumerate(lr.coef_[0])) ,reverse=False  )\n",
        "for temp in coef_neg_index[0:20]:\n",
        "    print(invert_index_vectorizer[temp[1]])"
      ],
      "metadata": {
        "id": "5HYvRTmMb2p5"
      },
      "execution_count": null,
      "outputs": []
    },
    {
      "cell_type": "code",
      "source": [
        "def comment_predict(text):\n",
        "    han = re.compile('[^ㄱ-ㅣ가-힣]')\n",
        "    temp_result = han.sub(' ',text)\n",
        "    temp_noun = okt.nouns(temp_result)\n",
        "    result_noun = [x for x in temp_noun if len(x)>1]\n",
        "    vec_test = count_vectorizer.transform([result_noun])\n",
        "    tf_test = tf_vectorizer.transform(vec_test)\n",
        "\n",
        "    result = ''\n",
        "    if lr.predict(tf_test)[0] == 1:\n",
        "        result = '긍정'\n",
        "    else :\n",
        "        result = '부정'\n",
        "\n",
        "\n",
        "    return result\n",
        "p_cnt = 0\n",
        "n_cnt =0\n",
        "for temp in df['text']:\n",
        "    if comment_predict(temp) == '긍정':\n",
        "        p_cnt +=1\n",
        "    else:\n",
        "        n_cnt +=1\n",
        "\n",
        "print(p_cnt,'///', n_cnt)\n",
        "\n"
      ],
      "metadata": {
        "id": "SIZoJCuQcrb3"
      },
      "execution_count": null,
      "outputs": []
    },
    {
      "cell_type": "code",
      "source": [
        "comment_predict('어플 사용용할때 오류가 많이 나고 재고가 파악이 안되요요')"
      ],
      "metadata": {
        "id": "PPQ35uQxfH7p"
      },
      "execution_count": null,
      "outputs": []
    },
    {
      "cell_type": "code",
      "source": [
        "df[df['text'].str.contains('오류')]"
      ],
      "metadata": {
        "id": "6oaIPbCJIF0C"
      },
      "execution_count": null,
      "outputs": []
    },
    {
      "cell_type": "code",
      "source": [
        "df[df['text'].str.contains('배송비')]"
      ],
      "metadata": {
        "id": "b92rHW6WJj-g"
      },
      "execution_count": null,
      "outputs": []
    },
    {
      "cell_type": "code",
      "source": [
        "df[df['text'].str.contains('픽업')]"
      ],
      "metadata": {
        "id": "LlwziYbcJpA7"
      },
      "execution_count": null,
      "outputs": []
    },
    {
      "cell_type": "code",
      "source": [
        "df[df['text'].str.contains('가능')]"
      ],
      "metadata": {
        "id": "mgSSw_zYJu07"
      },
      "execution_count": null,
      "outputs": []
    },
    {
      "cell_type": "code",
      "source": [
        "pd.options.display.max_rows = 700\n",
        "pd.options.display.max_columns = 4\n",
        "df"
      ],
      "metadata": {
        "id": "IWjf_4STJ-iM"
      },
      "execution_count": null,
      "outputs": []
    },
    {
      "cell_type": "code",
      "source": [
        "# row 생략 없이 출력\n",
        "pd.set_option('display.max_rows', None)\n",
        "# col 생략 없이 출력\n",
        "pd.set_option('display.max_columns', None)\n",
        "df"
      ],
      "metadata": {
        "id": "cP7t7Mx2KbMx"
      },
      "execution_count": null,
      "outputs": []
    },
    {
      "cell_type": "code",
      "source": [],
      "metadata": {
        "id": "A3pz9hd9LFF7"
      },
      "execution_count": null,
      "outputs": []
    }
  ]
}